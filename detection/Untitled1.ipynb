{
 "cells": [
  {
   "cell_type": "code",
   "execution_count": 1,
   "id": "32d7702d-7483-45da-a9de-809547b7cd4b",
   "metadata": {
    "tags": []
   },
   "outputs": [],
   "source": [
    "import numpy as np\n",
    "import matplotlib.pyplot as plt\n",
    "from PIL import Image\n",
    "from ultralytics import YOLO"
   ]
  },
  {
   "cell_type": "code",
   "execution_count": 148,
   "id": "708c2d6e-d061-488b-829b-0a09542ca818",
   "metadata": {
    "tags": []
   },
   "outputs": [],
   "source": [
    "model = YOLO(\"yolov8x.pt\") "
   ]
  },
  {
   "cell_type": "code",
   "execution_count": 155,
   "id": "3ef924fb-7140-48ff-a5c7-ba0339181b59",
   "metadata": {
    "tags": []
   },
   "outputs": [],
   "source": [
    "# img = np.load('data/cubemap/R.npy')\n",
    "# img = np.concatenate((img,img,img), axis=2)\n",
    "# # print(img.shape)\n",
    "# img = np.array(Image.fromarray(img).resize((743,743),Image.BICUBIC).convert('RGB'))\n",
    "# # print(img.size)\n",
    "\n",
    "# img = np.array(Image.open(r'C:\\Users\\fedai\\Desktop\\smallef9d4007.jpg').convert('RGB'))\n",
    "img = np.array(Image.open('circuite.jpg').convert('RGB'))\n",
    "\n"
   ]
  },
  {
   "cell_type": "code",
   "execution_count": 156,
   "id": "6597d8df-6d9f-4472-82f0-a06d1a9419b5",
   "metadata": {
    "tags": []
   },
   "outputs": [
    {
     "name": "stderr",
     "output_type": "stream",
     "text": [
      "\n",
      "0: 448x640 1 person, 1 remote, 714.2ms\n",
      "Speed: 199.7ms preprocess, 714.2ms inference, 0.0ms postprocess per image at shape (1, 3, 640, 640)\n"
     ]
    }
   ],
   "source": [
    "results = model(img)"
   ]
  },
  {
   "cell_type": "code",
   "execution_count": 158,
   "id": "9a32d4c0-b872-4413-b865-57698c159560",
   "metadata": {
    "tags": []
   },
   "outputs": [
    {
     "name": "stdout",
     "output_type": "stream",
     "text": [
      "[ultralytics.yolo.engine.results.Results object with attributes:\n",
      "\n",
      "boxes: ultralytics.yolo.engine.results.Boxes object\n",
      "keypoints: None\n",
      "keys: ['boxes']\n",
      "masks: None\n",
      "names: {0: 'person', 1: 'bicycle', 2: 'car', 3: 'motorcycle', 4: 'airplane', 5: 'bus', 6: 'train', 7: 'truck', 8: 'boat', 9: 'traffic light', 10: 'fire hydrant', 11: 'stop sign', 12: 'parking meter', 13: 'bench', 14: 'bird', 15: 'cat', 16: 'dog', 17: 'horse', 18: 'sheep', 19: 'cow', 20: 'elephant', 21: 'bear', 22: 'zebra', 23: 'giraffe', 24: 'backpack', 25: 'umbrella', 26: 'handbag', 27: 'tie', 28: 'suitcase', 29: 'frisbee', 30: 'skis', 31: 'snowboard', 32: 'sports ball', 33: 'kite', 34: 'baseball bat', 35: 'baseball glove', 36: 'skateboard', 37: 'surfboard', 38: 'tennis racket', 39: 'bottle', 40: 'wine glass', 41: 'cup', 42: 'fork', 43: 'knife', 44: 'spoon', 45: 'bowl', 46: 'banana', 47: 'apple', 48: 'sandwich', 49: 'orange', 50: 'broccoli', 51: 'carrot', 52: 'hot dog', 53: 'pizza', 54: 'donut', 55: 'cake', 56: 'chair', 57: 'couch', 58: 'potted plant', 59: 'bed', 60: 'dining table', 61: 'toilet', 62: 'tv', 63: 'laptop', 64: 'mouse', 65: 'remote', 66: 'keyboard', 67: 'cell phone', 68: 'microwave', 69: 'oven', 70: 'toaster', 71: 'sink', 72: 'refrigerator', 73: 'book', 74: 'clock', 75: 'vase', 76: 'scissors', 77: 'teddy bear', 78: 'hair drier', 79: 'toothbrush'}\n",
      "orig_img: array([[[237, 238, 230],\n",
      "        [238, 239, 231],\n",
      "        [241, 242, 234],\n",
      "        ...,\n",
      "        [ 60,  24,  28],\n",
      "        [ 59,  24,  30],\n",
      "        [ 58,  23,  29]],\n",
      "\n",
      "       [[238, 239, 231],\n",
      "        [239, 240, 232],\n",
      "        [241, 242, 234],\n",
      "        ...,\n",
      "        [ 61,  25,  29],\n",
      "        [ 60,  25,  31],\n",
      "        [ 59,  24,  30]],\n",
      "\n",
      "       [[240, 241, 233],\n",
      "        [241, 242, 234],\n",
      "        [243, 244, 236],\n",
      "        ...,\n",
      "        [ 64,  28,  32],\n",
      "        [ 63,  26,  33],\n",
      "        [ 63,  26,  33]],\n",
      "\n",
      "       ...,\n",
      "\n",
      "       [[ 13,  89,  76],\n",
      "        [  0,  75,  68],\n",
      "        [  0,  74,  81],\n",
      "        ...,\n",
      "        [149, 103, 105],\n",
      "        [142,  97, 100],\n",
      "        [135,  90,  93]],\n",
      "\n",
      "       [[ 15,  93,  67],\n",
      "        [  0,  80,  63],\n",
      "        [  0,  74,  71],\n",
      "        ...,\n",
      "        [146, 100, 102],\n",
      "        [138,  93,  96],\n",
      "        [132,  87,  90]],\n",
      "\n",
      "       [[ 15,  97,  59],\n",
      "        [  5,  88,  58],\n",
      "        [  0,  78,  67],\n",
      "        ...,\n",
      "        [143,  97,  99],\n",
      "        [136,  91,  94],\n",
      "        [129,  84,  87]]], dtype=uint8)\n",
      "orig_shape: (183, 275)\n",
      "path: 'image0.jpg'\n",
      "probs: None\n",
      "save_dir: None\n",
      "speed: {'preprocess': 199.66959953308105, 'inference': 714.2050266265869, 'postprocess': 0.0}]\n"
     ]
    },
    {
     "ename": "SyntaxError",
     "evalue": "'break' outside loop (1487828911.py, line 11)",
     "output_type": "error",
     "traceback": [
      "\u001b[1;36m  Cell \u001b[1;32mIn[158], line 11\u001b[1;36m\u001b[0m\n\u001b[1;33m    break\u001b[0m\n\u001b[1;37m    ^\u001b[0m\n\u001b[1;31mSyntaxError\u001b[0m\u001b[1;31m:\u001b[0m 'break' outside loop\n"
     ]
    }
   ],
   "source": [
    "# print(results)\n",
    "\n",
    "import matplotlib.patches as patches\n",
    "import cv2\n",
    "# img = np.array(Image.open('bus.jpg'))\n",
    "# ax = plt.gca()\n",
    "# ax.set_autoscale_on(False)\n",
    "# ax.imshow(img)\n",
    "# print(results[0].names)\n",
    "print(results)\n",
    "break\n",
    "for result in results:\n",
    "    boxes = result.boxes.cpu().numpy()                         # get boxes on cpu in numpy\n",
    "    print(result.names)\n",
    "    for box in boxes:                                          # iterate boxes\n",
    "        print(results[0].names[box.cls[0]])\n",
    "        r = box.xyxy[0].astype(int)                            # get corner points as int\n",
    "        print(r)                                               # print boxes\n",
    "        # rect = patches.Rectangle((r[0], r[1]), r[3], r[2], linewidth=1, edgecolor='r', facecolor='none')\n",
    "        # ax.add_patch(rect)\n",
    "        \n",
    "        cv2.rectangle(img, r[:2], r[2:], (255, 255, 255), 2)\n",
    "cv2.imshow(\"bounding_box\", img)\n",
    "cv2.waitKey(0)\n",
    "        # break\n",
    "        \n",
    "\n"
   ]
  },
  {
   "cell_type": "code",
   "execution_count": null,
   "id": "1c6f050e-8192-4fec-bc56-6b85a937a283",
   "metadata": {},
   "outputs": [],
   "source": []
  }
 ],
 "metadata": {
  "kernelspec": {
   "display_name": "Python 3 (ipykernel)",
   "language": "python",
   "name": "python3"
  },
  "language_info": {
   "codemirror_mode": {
    "name": "ipython",
    "version": 3
   },
   "file_extension": ".py",
   "mimetype": "text/x-python",
   "name": "python",
   "nbconvert_exporter": "python",
   "pygments_lexer": "ipython3",
   "version": "3.10.9"
  }
 },
 "nbformat": 4,
 "nbformat_minor": 5
}
